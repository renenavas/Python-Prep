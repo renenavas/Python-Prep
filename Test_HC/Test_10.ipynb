{
 "cells": [
  {
   "cell_type": "markdown",
   "metadata": {},
   "source": [
    "## Tests"
   ]
  },
  {
   "cell_type": "code",
   "execution_count": 6,
   "metadata": {},
   "outputs": [],
   "source": [
    "import unittest\n",
    "import os\n",
    "import checkpoint as ch"
   ]
  },
  {
   "cell_type": "code",
   "execution_count": 7,
   "metadata": {},
   "outputs": [],
   "source": [
    "class HenryChallenge(unittest.TestCase):\n",
    "    \n",
    "    def test_ListaEnteros(self):\n",
    "      lista_test = ch.ListaEnteros(1, 10)\n",
    "      lista_esperada = [1,2,3,4,5,6,7,8,9,10]\n",
    "      self.assertEqual(lista_test, lista_esperada)\n",
    "\n",
    "    def test_ListaEnteros2(self):\n",
    "      lista_test = ch.ListaEnteros(1, 10)\n",
    "      lista_esperada = [1,2,3,4,5]\n",
    "      self.assertEqual(lista_test, lista_esperada)\n"
   ]
  },
  {
   "cell_type": "code",
   "execution_count": 8,
   "metadata": {},
   "outputs": [
    {
     "name": "stderr",
     "output_type": "stream",
     "text": [
      "test_ListaEnteros (__main__.HenryChallenge) ... ok\n",
      "test_ListaEnteros2 (__main__.HenryChallenge) ... FAIL\n",
      "\n",
      "======================================================================\n",
      "FAIL: test_ListaEnteros2 (__main__.HenryChallenge)\n",
      "----------------------------------------------------------------------\n",
      "Traceback (most recent call last):\n",
      "  File \"C:\\Users\\lopez\\AppData\\Local\\Temp/ipykernel_10300/2323808886.py\", line 11, in test_ListaEnteros2\n",
      "    self.assertEqual(lista_test, lista_esperada)\n",
      "AssertionError: Lists differ: [1, 2, 3, 4, 5, 6, 7, 8, 9, 10] != [1, 2, 3, 4, 5]\n",
      "\n",
      "First list contains 5 additional elements.\n",
      "First extra element 5:\n",
      "6\n",
      "\n",
      "- [1, 2, 3, 4, 5, 6, 7, 8, 9, 10]\n",
      "+ [1, 2, 3, 4, 5]\n",
      "\n",
      "----------------------------------------------------------------------\n",
      "Ran 2 tests in 0.002s\n",
      "\n",
      "FAILED (failures=1)\n"
     ]
    }
   ],
   "source": [
    "resultado = unittest.main(argv=[''], verbosity=2, exit=False)"
   ]
  },
  {
   "cell_type": "code",
   "execution_count": null,
   "metadata": {},
   "outputs": [],
   "source": [
    "12\n",
    "[[2,3],[2,1]]"
   ]
  },
  {
   "cell_type": "code",
   "execution_count": 52,
   "metadata": {},
   "outputs": [],
   "source": [
    "def factorizar_numero(numero):\n",
    "    if (type(numero)!=int):\n",
    "        return None\n",
    "    if (numero < 1):\n",
    "        return None\n",
    "    lista_primos = []\n",
    "    i = 2\n",
    "    while(i < (int(numero/2) + 1)):\n",
    "        primo = True\n",
    "        j = 2\n",
    "        while (j < i):\n",
    "            if (i % j == 0):\n",
    "                primo = False\n",
    "                break\n",
    "            j+=1\n",
    "        if (primo):\n",
    "            lista_primos.append(i)\n",
    "        i+=1\n",
    "    lista_factores = []\n",
    "    lista_exponentes = []\n",
    "    numero_original = numero\n",
    "    for i in lista_primos:\n",
    "        j = 0\n",
    "        while (numero % i == 0):\n",
    "            numero = numero / i\n",
    "            if (j == 0):\n",
    "                lista_factores.append(i)\n",
    "            j+=1\n",
    "        if (j>0):\n",
    "            lista_exponentes.append(j)\n",
    "    if (len(lista_factores) == 0):\n",
    "        return [[numero_original],[1]]\n",
    "    else:\n",
    "        return [lista_factores, lista_exponentes]"
   ]
  },
  {
   "cell_type": "code",
   "execution_count": 58,
   "metadata": {},
   "outputs": [
    {
     "data": {
      "text/plain": [
       "[[2, 5], [2, 3]]"
      ]
     },
     "execution_count": 58,
     "metadata": {},
     "output_type": "execute_result"
    }
   ],
   "source": [
    "factorizar_numero(500)"
   ]
  },
  {
   "cell_type": "code",
   "execution_count": null,
   "metadata": {},
   "outputs": [],
   "source": [
    "\n",
    "\n",
    "\n",
    "    lista_factores = []\n",
    "    lista_exponentes = []\n",
    "    for i in lista_primos:\n",
    "        j = 0\n",
    "        while (numero % i == 0):\n",
    "            numero = numero / i\n",
    "            if (j == 0):\n",
    "                lista_factores.append(i)\n",
    "            j+=1\n",
    "        if (j>0):\n",
    "            lista_exponentes.append(j)\n",
    "    return [lista_factores, lista_exponentes]"
   ]
  },
  {
   "cell_type": "code",
   "execution_count": 13,
   "metadata": {},
   "outputs": [
    {
     "data": {
      "text/plain": [
       "[[2, 7], [1, 1]]"
      ]
     },
     "execution_count": 13,
     "metadata": {},
     "output_type": "execute_result"
    }
   ],
   "source": [
    "factorizar_numero(14)"
   ]
  },
  {
   "cell_type": "code",
   "execution_count": 32,
   "metadata": {},
   "outputs": [],
   "source": [
    "from random import random"
   ]
  },
  {
   "cell_type": "code",
   "execution_count": 33,
   "metadata": {},
   "outputs": [
    {
     "data": {
      "text/plain": [
       "0.6372831947041329"
      ]
     },
     "execution_count": 33,
     "metadata": {},
     "output_type": "execute_result"
    }
   ],
   "source": [
    "random()"
   ]
  }
 ],
 "metadata": {
  "interpreter": {
   "hash": "c85384e4cb51c8b72350f3a8712cc8351fdc3955e32a27f9b60c6242ab125f01"
  },
  "kernelspec": {
   "display_name": "Python 3 (ipykernel)",
   "language": "python",
   "name": "python3"
  },
  "language_info": {
   "codemirror_mode": {
    "name": "ipython",
    "version": 3
   },
   "file_extension": ".py",
   "mimetype": "text/x-python",
   "name": "python",
   "nbconvert_exporter": "python",
   "pygments_lexer": "ipython3",
   "version": "3.9.7"
  }
 },
 "nbformat": 4,
 "nbformat_minor": 4
}
